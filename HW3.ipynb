{
 "cells": [
  {
   "cell_type": "code",
   "execution_count": 33,
   "id": "cea20eae",
   "metadata": {},
   "outputs": [
    {
     "data": {
      "text/html": [
       "<a href=\"https://colab.research.google.com/github/yongfu-lu/CSC_448_HW3/blob/main/HW3.ipynb\"><img src=\"https://colab.research.google.com/assets/colab-badge.svg\" alt=\"Open In Colab\"/></a >"
      ],
      "text/plain": [
       "<IPython.core.display.HTML object>"
      ]
     },
     "execution_count": 33,
     "metadata": {},
     "output_type": "execute_result"
    }
   ],
   "source": [
    "from IPython.core.display import HTML\n",
    "HTML('<a href=\"https://colab.research.google.com/github/yongfu-lu/CSC_448_HW3/blob/main/HW3.ipynb\"><img src=\"https://colab.research.google.com/assets/colab-badge.svg\" alt=\"Open In Colab\"/></a >')"
   ]
  },
  {
   "cell_type": "code",
   "execution_count": 11,
   "id": "ed1e8e7f",
   "metadata": {},
   "outputs": [],
   "source": [
    "import pandas as pd\n",
    "from sklearn.model_selection import train_test_split\n",
    "from sklearn.linear_model import LinearRegression\n",
    "from sklearn.model_selection import cross_val_score\n",
    "from sklearn.preprocessing import PolynomialFeatures\n",
    "import matplotlib.pyplot as plt\n",
    "import numpy as np"
   ]
  },
  {
   "cell_type": "markdown",
   "id": "b95ec3ae",
   "metadata": {},
   "source": [
    "# Part 1. Loading Dataset"
   ]
  },
  {
   "cell_type": "code",
   "execution_count": 2,
   "id": "66c73840",
   "metadata": {},
   "outputs": [],
   "source": [
    "# Using pandas load the dataset (load remotely, not locally)\n",
    "data = pd.read_csv(\"https://raw.githubusercontent.com/profmcnich/example_notebook/main/science_data_large.csv\")"
   ]
  },
  {
   "cell_type": "code",
   "execution_count": 3,
   "id": "38b8842a",
   "metadata": {},
   "outputs": [
    {
     "data": {
      "text/html": [
       "<div>\n",
       "<style scoped>\n",
       "    .dataframe tbody tr th:only-of-type {\n",
       "        vertical-align: middle;\n",
       "    }\n",
       "\n",
       "    .dataframe tbody tr th {\n",
       "        vertical-align: top;\n",
       "    }\n",
       "\n",
       "    .dataframe thead th {\n",
       "        text-align: right;\n",
       "    }\n",
       "</style>\n",
       "<table border=\"1\" class=\"dataframe\">\n",
       "  <thead>\n",
       "    <tr style=\"text-align: right;\">\n",
       "      <th></th>\n",
       "      <th>Temperature °C</th>\n",
       "      <th>Mols KCL</th>\n",
       "      <th>Size nm^3</th>\n",
       "    </tr>\n",
       "  </thead>\n",
       "  <tbody>\n",
       "    <tr>\n",
       "      <th>0</th>\n",
       "      <td>469</td>\n",
       "      <td>647</td>\n",
       "      <td>6.244743e+05</td>\n",
       "    </tr>\n",
       "    <tr>\n",
       "      <th>1</th>\n",
       "      <td>403</td>\n",
       "      <td>694</td>\n",
       "      <td>5.779610e+05</td>\n",
       "    </tr>\n",
       "    <tr>\n",
       "      <th>2</th>\n",
       "      <td>302</td>\n",
       "      <td>975</td>\n",
       "      <td>6.196847e+05</td>\n",
       "    </tr>\n",
       "    <tr>\n",
       "      <th>3</th>\n",
       "      <td>779</td>\n",
       "      <td>916</td>\n",
       "      <td>1.460449e+06</td>\n",
       "    </tr>\n",
       "    <tr>\n",
       "      <th>4</th>\n",
       "      <td>901</td>\n",
       "      <td>18</td>\n",
       "      <td>4.325726e+04</td>\n",
       "    </tr>\n",
       "    <tr>\n",
       "      <th>5</th>\n",
       "      <td>545</td>\n",
       "      <td>637</td>\n",
       "      <td>7.124634e+05</td>\n",
       "    </tr>\n",
       "    <tr>\n",
       "      <th>6</th>\n",
       "      <td>660</td>\n",
       "      <td>519</td>\n",
       "      <td>7.006960e+05</td>\n",
       "    </tr>\n",
       "    <tr>\n",
       "      <th>7</th>\n",
       "      <td>143</td>\n",
       "      <td>869</td>\n",
       "      <td>2.718260e+05</td>\n",
       "    </tr>\n",
       "    <tr>\n",
       "      <th>8</th>\n",
       "      <td>89</td>\n",
       "      <td>461</td>\n",
       "      <td>8.919803e+04</td>\n",
       "    </tr>\n",
       "    <tr>\n",
       "      <th>9</th>\n",
       "      <td>294</td>\n",
       "      <td>776</td>\n",
       "      <td>4.770210e+05</td>\n",
       "    </tr>\n",
       "    <tr>\n",
       "      <th>10</th>\n",
       "      <td>991</td>\n",
       "      <td>117</td>\n",
       "      <td>2.441771e+05</td>\n",
       "    </tr>\n",
       "    <tr>\n",
       "      <th>11</th>\n",
       "      <td>307</td>\n",
       "      <td>781</td>\n",
       "      <td>5.006455e+05</td>\n",
       "    </tr>\n",
       "    <tr>\n",
       "      <th>12</th>\n",
       "      <td>206</td>\n",
       "      <td>70</td>\n",
       "      <td>3.145200e+04</td>\n",
       "    </tr>\n",
       "    <tr>\n",
       "      <th>13</th>\n",
       "      <td>437</td>\n",
       "      <td>599</td>\n",
       "      <td>5.390215e+05</td>\n",
       "    </tr>\n",
       "    <tr>\n",
       "      <th>14</th>\n",
       "      <td>566</td>\n",
       "      <td>75</td>\n",
       "      <td>9.185271e+04</td>\n",
       "    </tr>\n",
       "  </tbody>\n",
       "</table>\n",
       "</div>"
      ],
      "text/plain": [
       "    Temperature °C  Mols KCL     Size nm^3\n",
       "0              469       647  6.244743e+05\n",
       "1              403       694  5.779610e+05\n",
       "2              302       975  6.196847e+05\n",
       "3              779       916  1.460449e+06\n",
       "4              901        18  4.325726e+04\n",
       "5              545       637  7.124634e+05\n",
       "6              660       519  7.006960e+05\n",
       "7              143       869  2.718260e+05\n",
       "8               89       461  8.919803e+04\n",
       "9              294       776  4.770210e+05\n",
       "10             991       117  2.441771e+05\n",
       "11             307       781  5.006455e+05\n",
       "12             206        70  3.145200e+04\n",
       "13             437       599  5.390215e+05\n",
       "14             566        75  9.185271e+04"
      ]
     },
     "execution_count": 3,
     "metadata": {},
     "output_type": "execute_result"
    }
   ],
   "source": [
    "# Output the first 15 rows of the data\n",
    "data.head(15)"
   ]
  },
  {
   "cell_type": "code",
   "execution_count": 4,
   "id": "1cea527e",
   "metadata": {},
   "outputs": [
    {
     "name": "stdout",
     "output_type": "stream",
     "text": [
      "<class 'pandas.core.frame.DataFrame'>\n",
      "RangeIndex: 1000 entries, 0 to 999\n",
      "Data columns (total 3 columns):\n",
      " #   Column          Non-Null Count  Dtype  \n",
      "---  ------          --------------  -----  \n",
      " 0   Temperature °C  1000 non-null   int64  \n",
      " 1   Mols KCL        1000 non-null   int64  \n",
      " 2   Size nm^3       1000 non-null   float64\n",
      "dtypes: float64(1), int64(2)\n",
      "memory usage: 23.6 KB\n"
     ]
    }
   ],
   "source": [
    "# Display a summary of the table information (number of datapoints, etc.)\n",
    "data.info()"
   ]
  },
  {
   "cell_type": "markdown",
   "id": "d19e3333",
   "metadata": {},
   "source": [
    "# Part 2. Splitting Dataset"
   ]
  },
  {
   "cell_type": "code",
   "execution_count": 5,
   "id": "44acc96a",
   "metadata": {},
   "outputs": [],
   "source": [
    "# Take the pandas dataset and split it into our features (X) and label (y)\n",
    "X = data.drop(columns=['Size nm^3'])\n",
    "y = data['Size nm^3']"
   ]
  },
  {
   "cell_type": "code",
   "execution_count": 6,
   "id": "1ad12474",
   "metadata": {},
   "outputs": [],
   "source": [
    "# Use sklearn to split the features and labels into a training/test set. (90% train, 10% test)\n",
    "X_train, X_test, y_train, y_test = train_test_split(X, y, test_size=0.1)"
   ]
  },
  {
   "cell_type": "code",
   "execution_count": 7,
   "id": "6a351b7b",
   "metadata": {},
   "outputs": [
    {
     "data": {
      "text/html": [
       "<div>\n",
       "<style scoped>\n",
       "    .dataframe tbody tr th:only-of-type {\n",
       "        vertical-align: middle;\n",
       "    }\n",
       "\n",
       "    .dataframe tbody tr th {\n",
       "        vertical-align: top;\n",
       "    }\n",
       "\n",
       "    .dataframe thead th {\n",
       "        text-align: right;\n",
       "    }\n",
       "</style>\n",
       "<table border=\"1\" class=\"dataframe\">\n",
       "  <thead>\n",
       "    <tr style=\"text-align: right;\">\n",
       "      <th></th>\n",
       "      <th>Temperature °C</th>\n",
       "      <th>Mols KCL</th>\n",
       "    </tr>\n",
       "  </thead>\n",
       "  <tbody>\n",
       "    <tr>\n",
       "      <th>337</th>\n",
       "      <td>127</td>\n",
       "      <td>26</td>\n",
       "    </tr>\n",
       "    <tr>\n",
       "      <th>72</th>\n",
       "      <td>234</td>\n",
       "      <td>698</td>\n",
       "    </tr>\n",
       "    <tr>\n",
       "      <th>872</th>\n",
       "      <td>254</td>\n",
       "      <td>662</td>\n",
       "    </tr>\n",
       "    <tr>\n",
       "      <th>107</th>\n",
       "      <td>675</td>\n",
       "      <td>759</td>\n",
       "    </tr>\n",
       "    <tr>\n",
       "      <th>382</th>\n",
       "      <td>727</td>\n",
       "      <td>839</td>\n",
       "    </tr>\n",
       "    <tr>\n",
       "      <th>...</th>\n",
       "      <td>...</td>\n",
       "      <td>...</td>\n",
       "    </tr>\n",
       "    <tr>\n",
       "      <th>783</th>\n",
       "      <td>732</td>\n",
       "      <td>156</td>\n",
       "    </tr>\n",
       "    <tr>\n",
       "      <th>848</th>\n",
       "      <td>772</td>\n",
       "      <td>382</td>\n",
       "    </tr>\n",
       "    <tr>\n",
       "      <th>478</th>\n",
       "      <td>448</td>\n",
       "      <td>159</td>\n",
       "    </tr>\n",
       "    <tr>\n",
       "      <th>770</th>\n",
       "      <td>114</td>\n",
       "      <td>939</td>\n",
       "    </tr>\n",
       "    <tr>\n",
       "      <th>417</th>\n",
       "      <td>696</td>\n",
       "      <td>193</td>\n",
       "    </tr>\n",
       "  </tbody>\n",
       "</table>\n",
       "<p>900 rows × 2 columns</p>\n",
       "</div>"
      ],
      "text/plain": [
       "     Temperature °C  Mols KCL\n",
       "337             127        26\n",
       "72              234       698\n",
       "872             254       662\n",
       "107             675       759\n",
       "382             727       839\n",
       "..              ...       ...\n",
       "783             732       156\n",
       "848             772       382\n",
       "478             448       159\n",
       "770             114       939\n",
       "417             696       193\n",
       "\n",
       "[900 rows x 2 columns]"
      ]
     },
     "execution_count": 7,
     "metadata": {},
     "output_type": "execute_result"
    }
   ],
   "source": [
    "X_train"
   ]
  },
  {
   "cell_type": "code",
   "execution_count": 8,
   "id": "5faada6f",
   "metadata": {},
   "outputs": [
    {
     "data": {
      "text/html": [
       "<div>\n",
       "<style scoped>\n",
       "    .dataframe tbody tr th:only-of-type {\n",
       "        vertical-align: middle;\n",
       "    }\n",
       "\n",
       "    .dataframe tbody tr th {\n",
       "        vertical-align: top;\n",
       "    }\n",
       "\n",
       "    .dataframe thead th {\n",
       "        text-align: right;\n",
       "    }\n",
       "</style>\n",
       "<table border=\"1\" class=\"dataframe\">\n",
       "  <thead>\n",
       "    <tr style=\"text-align: right;\">\n",
       "      <th></th>\n",
       "      <th>Temperature °C</th>\n",
       "      <th>Mols KCL</th>\n",
       "    </tr>\n",
       "  </thead>\n",
       "  <tbody>\n",
       "    <tr>\n",
       "      <th>985</th>\n",
       "      <td>16</td>\n",
       "      <td>53</td>\n",
       "    </tr>\n",
       "    <tr>\n",
       "      <th>447</th>\n",
       "      <td>592</td>\n",
       "      <td>739</td>\n",
       "    </tr>\n",
       "    <tr>\n",
       "      <th>993</th>\n",
       "      <td>311</td>\n",
       "      <td>265</td>\n",
       "    </tr>\n",
       "    <tr>\n",
       "      <th>463</th>\n",
       "      <td>260</td>\n",
       "      <td>530</td>\n",
       "    </tr>\n",
       "    <tr>\n",
       "      <th>878</th>\n",
       "      <td>193</td>\n",
       "      <td>316</td>\n",
       "    </tr>\n",
       "    <tr>\n",
       "      <th>...</th>\n",
       "      <td>...</td>\n",
       "      <td>...</td>\n",
       "    </tr>\n",
       "    <tr>\n",
       "      <th>217</th>\n",
       "      <td>91</td>\n",
       "      <td>467</td>\n",
       "    </tr>\n",
       "    <tr>\n",
       "      <th>509</th>\n",
       "      <td>31</td>\n",
       "      <td>127</td>\n",
       "    </tr>\n",
       "    <tr>\n",
       "      <th>55</th>\n",
       "      <td>965</td>\n",
       "      <td>721</td>\n",
       "    </tr>\n",
       "    <tr>\n",
       "      <th>868</th>\n",
       "      <td>216</td>\n",
       "      <td>713</td>\n",
       "    </tr>\n",
       "    <tr>\n",
       "      <th>747</th>\n",
       "      <td>642</td>\n",
       "      <td>875</td>\n",
       "    </tr>\n",
       "  </tbody>\n",
       "</table>\n",
       "<p>100 rows × 2 columns</p>\n",
       "</div>"
      ],
      "text/plain": [
       "     Temperature °C  Mols KCL\n",
       "985              16        53\n",
       "447             592       739\n",
       "993             311       265\n",
       "463             260       530\n",
       "878             193       316\n",
       "..              ...       ...\n",
       "217              91       467\n",
       "509              31       127\n",
       "55              965       721\n",
       "868             216       713\n",
       "747             642       875\n",
       "\n",
       "[100 rows x 2 columns]"
      ]
     },
     "execution_count": 8,
     "metadata": {},
     "output_type": "execute_result"
    }
   ],
   "source": [
    "X_test"
   ]
  },
  {
   "cell_type": "markdown",
   "id": "0f59273f",
   "metadata": {},
   "source": [
    "# Part 3. Perform a linear regression"
   ]
  },
  {
   "cell_type": "code",
   "execution_count": 9,
   "id": "e4c8e5b5",
   "metadata": {},
   "outputs": [],
   "source": [
    "# Use sklearn to train a model on the training set\n",
    "model = LinearRegression().fit(X_train, y_train)"
   ]
  },
  {
   "cell_type": "code",
   "execution_count": 12,
   "id": "2d98e32b",
   "metadata": {},
   "outputs": [
    {
     "name": "stdout",
     "output_type": "stream",
     "text": [
      "Predict output is: 537700.76548\n"
     ]
    }
   ],
   "source": [
    "# Create a sample datapoint and predict the output of that sample with the trained model\n",
    "sample_x = np.array([[500, 500]])\n",
    "sample_y = model.predict([[500, 500]])[0]\n",
    "print(f\"Predict output is: {sample_y:.5f}\")"
   ]
  },
  {
   "cell_type": "code",
   "execution_count": 15,
   "id": "3f7b64f0",
   "metadata": {},
   "outputs": [
    {
     "name": "stdout",
     "output_type": "stream",
     "text": [
      "Score of training : 0.86113 \n",
      "Score of testing : 0.85547.\n"
     ]
    }
   ],
   "source": [
    "# Report on the score for that model, in your own words (markdown, not code) explain what the score means\n",
    "score_of_traning = model.score(X_train, y_train)\n",
    "score_of_testing = model.score(X_test, y_test)\n",
    "print(f\"Score of training : {score_of_traning:.5f} \\nScore of testing : {score_of_testing:.5f}.\")"
   ]
  },
  {
   "cell_type": "markdown",
   "id": "24aa0774",
   "metadata": {},
   "source": [
    "The score measures the corelation between the input and output value. The absolute value of the score can vary from 0 to 1, and it can be positive or negative depends on the relationship between the input and output. Score value of 0 means no relation at all. Score value of 1 means a perfect correlation. \n",
    "\n",
    "In our above case, the input and output variable of both training dataset and testing dataset has the positive correlation."
   ]
  },
  {
   "cell_type": "code",
   "execution_count": 19,
   "id": "1ef94fa8",
   "metadata": {},
   "outputs": [
    {
     "name": "stdout",
     "output_type": "stream",
     "text": [
      "The coefficents are 881.46942 and 1033.73574 \n",
      "The intercept point is -419901.81312\n"
     ]
    }
   ],
   "source": [
    "# Extract the coefficents and intercept from the model and write an equation for your h(x) using LaTeX\n",
    "co1 = round(model.coef_[0], 5)\n",
    "co2 = round(model.coef_[1], 5)\n",
    "intercept_point = round(model.intercept_, 5)\n",
    "print(f\"The coefficents are {co1} and {co2} \\nThe intercept point is {intercept_point}\")"
   ]
  },
  {
   "cell_type": "markdown",
   "id": "2ca4c19d",
   "metadata": {},
   "source": [
    "Equation for h(x):\n",
    "\n",
    "$h(x) = 881.46942x_1 + 1033.73574x_2 - 419901.81312$,  \n",
    "$x_1$ is the Temperature and $x_2$ is the Mols KCL"
   ]
  },
  {
   "cell_type": "markdown",
   "id": "576b1fbf",
   "metadata": {},
   "source": [
    "# Part 4. Use cross validation"
   ]
  },
  {
   "cell_type": "code",
   "execution_count": 21,
   "id": "acc03096",
   "metadata": {},
   "outputs": [
    {
     "name": "stdout",
     "output_type": "stream",
     "text": [
      " Score for each time: [0.87537519 0.86925467 0.84121183 0.88493961 0.84186229 0.8810148\n",
      " 0.86625849 0.83887556 0.8587267  0.83516287]\n"
     ]
    }
   ],
   "source": [
    "# Use the cross_val_score function to repeat your experiment across many shuffles of the data\n",
    "cross_validations = cross_val_score(model, X_train, y_train, cv = 10)\n",
    "print(f' Score for each time: {cross_validations}')"
   ]
  },
  {
   "cell_type": "code",
   "execution_count": 22,
   "id": "36cd250b",
   "metadata": {},
   "outputs": [
    {
     "name": "stdout",
     "output_type": "stream",
     "text": [
      "The average score: 0.8592681985591175\n"
     ]
    }
   ],
   "source": [
    "print(f\"The average score: {k_folds.mean()}\")"
   ]
  },
  {
   "cell_type": "code",
   "execution_count": null,
   "id": "66347f16",
   "metadata": {},
   "outputs": [],
   "source": [
    "# Report on their finding and their significance"
   ]
  },
  {
   "cell_type": "markdown",
   "id": "f919c3f8",
   "metadata": {},
   "source": [
    "The method cross_val_score will return a list of score. The size of the list is indicated by the argument cv. In the above case, the size of the list is 10. Which means the input training data was splitted into 10 parts, and the returned list contains the score coresponding to each part. \n",
    "\n",
    "The cross validation provide the way to measure the accuracy of the model by spliting training data into many parts and comparing the result amoung them. It does not required validation set, therefore it is very efficient for a small size data."
   ]
  },
  {
   "cell_type": "markdown",
   "id": "cb82681c",
   "metadata": {},
   "source": [
    "# Part 5. Use Polynomial regression "
   ]
  },
  {
   "cell_type": "code",
   "execution_count": 27,
   "id": "60770c20",
   "metadata": {},
   "outputs": [],
   "source": [
    "# Using the PolynomialFeatures library perform another regression on an augmented dataset of degree 2\n",
    "poly = PolynomialFeatures(degree=2)\n",
    "poly_x_train = poly.fit_transform(X_train)\n",
    "poly_x_test = poly.fit_transform(X_test)\n",
    "model_2 = LinearRegression().fit(poly_x_train, y_train)"
   ]
  },
  {
   "cell_type": "code",
   "execution_count": 28,
   "id": "07dd33ba",
   "metadata": {},
   "outputs": [
    {
     "name": "stdout",
     "output_type": "stream",
     "text": [
      "Train score is 1.00000 and Test Score is 1.00000.\n"
     ]
    }
   ],
   "source": [
    "# Report on the metrics and output the resultant equation as you did in Part 3.\n",
    "train_score = model_2.score(poly_x_train, y_train)\n",
    "test_score = model_2.score(poly_x_test, y_test)\n",
    "print(f\"Train score is {train_score:.5f} and Test Score is {test_score:.5f}.\")"
   ]
  },
  {
   "cell_type": "markdown",
   "id": "3386b91d",
   "metadata": {},
   "source": [
    "By using polynomial regression, the score of training and testing both increase to 1.0. This indicates a perfect correlation between input and output value."
   ]
  },
  {
   "cell_type": "code",
   "execution_count": 32,
   "id": "41332a4e",
   "metadata": {},
   "outputs": [
    {
     "name": "stdout",
     "output_type": "stream",
     "text": [
      "The coefficients are : [ 0.      12.      -0.      -0.       2.       0.02857] \n",
      "The intercept is: 0.00002\n"
     ]
    }
   ],
   "source": [
    "cos = np.round_(model_2.coef_, decimals = 5)\n",
    "intercept = model_2.intercept_\n",
    "print(f\"The coefficients are : {cos} \\nThe intercept is: {intercept:.5f}\")"
   ]
  },
  {
   "cell_type": "markdown",
   "id": "ad493ccb",
   "metadata": {},
   "source": [
    "Equation is: \n",
    "$y = 0.00002 + 12x_1 + 2x_1x_2 + 0.02857x_2^2$,  \n",
    "$x_1$ is the Temperature and $x_2$ is the Mols KCL."
   ]
  },
  {
   "cell_type": "code",
   "execution_count": null,
   "id": "842fe754",
   "metadata": {},
   "outputs": [],
   "source": []
  }
 ],
 "metadata": {
  "kernelspec": {
   "display_name": "Python 3 (ipykernel)",
   "language": "python",
   "name": "python3"
  },
  "language_info": {
   "codemirror_mode": {
    "name": "ipython",
    "version": 3
   },
   "file_extension": ".py",
   "mimetype": "text/x-python",
   "name": "python",
   "nbconvert_exporter": "python",
   "pygments_lexer": "ipython3",
   "version": "3.9.7"
  }
 },
 "nbformat": 4,
 "nbformat_minor": 5
}
